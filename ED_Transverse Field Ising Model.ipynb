{
 "cells": [
  {
   "cell_type": "markdown",
   "id": "historical-qatar",
   "metadata": {},
   "source": [
    "# Exact Diagonalization\n",
    "\n",
    "## Transverse-Field Ising Model (TFIM)\n",
    "\n",
    "### References:\n",
    "* J. Stat. Mech. (2017) P093101.\n",
    "* Α α, Β β, Γ γ, Δ δ, Ε ε, Ζ ζ, Η η, Θ θ, Ι ι, Κ κ, Λ λ, Μ μ, Ν ν, Ξ ξ, Ο ο, Π π, Ρ ρ, Σ σ/ς, Τ τ, Υ υ, Φ φ, Χ χ, Ψ ψ, and Ω ω."
   ]
  },
  {
   "cell_type": "markdown",
   "id": "israeli-recall",
   "metadata": {},
   "source": [
    "Consider 1D ferromagnetic (FM) transverse-field Ising model (TFIM) with periodic boundary condition (PBC)\n",
    "\n",
    "$$\n",
    "  H = -J \\sum_{i=1}^N S^z_i S^z_{i+1} - h \\sum_{i=1}^N S^x_i, \n",
    "$$\n",
    "where $\\vec{S}=\\frac{1}{2}\\vec{\\sigma}$ and the spin operators and $\\sigma$ are the Pauli matrices. $N$ is the number of sites.\n",
    "We require $J>0$ to ensure the system is ferromagnetic. There is a quantum phase transition at $h/J=1.0$. \n",
    "\n",
    "Define\n",
    "$$\n",
    "  E_k \\equiv \\sqrt{ (J/2)^2 + h^2 + Jh\\cos(k).\n",
    "  }\n",
    "$$\n",
    "\n",
    "$$\n",
    "  \\Lambda_a \\equiv \\left\\{\n",
    "    \\pm \\frac{\\pi}{N}, \\pm \\frac{3\\pi}{N}, \\cdots, \\pm \\frac{(N-1)\\pi}{N}\n",
    "  \\right\\}.\n",
    "$$\n",
    "\n",
    "$$\n",
    "  \\Lambda_p \\equiv \\left\\{\n",
    "    0, \\pm \\frac{2\\pi}{N}, \\pm \\frac{4\\pi}{N}, \\cdots, \\pm \\frac{(N-2)\\pi}{N}, \\pi\n",
    "  \\right\\}.\n",
    "$$\n",
    "\n",
    "The ground state energy $E_0$ and first excited state energy $E_1$ are:\n",
    "$$\n",
    "  E_0 = -\\frac{1}{2}\\sum_{k \\in \\Lambda_a} E_k\n",
    "$$\n",
    "$$\n",
    "  E_1 = - \\frac{J}{2} -\\frac{1}{2}\\sum_{k \\in \\Lambda_p, k \\notin \\{0, \\pi\\}} E_k ,\n",
    "$$"
   ]
  },
  {
   "cell_type": "code",
   "execution_count": null,
   "id": "muslim-record",
   "metadata": {},
   "outputs": [],
   "source": []
  }
 ],
 "metadata": {
  "kernelspec": {
   "display_name": "Python 3",
   "language": "python",
   "name": "python3"
  },
  "language_info": {
   "codemirror_mode": {
    "name": "ipython",
    "version": 3
   },
   "file_extension": ".py",
   "mimetype": "text/x-python",
   "name": "python",
   "nbconvert_exporter": "python",
   "pygments_lexer": "ipython3",
   "version": "3.7.3"
  }
 },
 "nbformat": 4,
 "nbformat_minor": 5
}
