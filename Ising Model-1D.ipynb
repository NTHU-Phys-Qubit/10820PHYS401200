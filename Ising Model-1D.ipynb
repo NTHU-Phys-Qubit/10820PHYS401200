{
 "cells": [
  {
   "cell_type": "markdown",
   "metadata": {},
   "source": [
    "# Ising Model\n",
    "## One-dimensional (1D), periodic boundary condition (PBC)"
   ]
  },
  {
   "cell_type": "markdown",
   "metadata": {},
   "source": [
    "Hamiltonian:\n",
    "$$ \n",
    "  H[\\{\\sigma_i\\}] = -J\\sum_i \\sigma_i \\sigma_{i+1} - B\\sum_i \\sigma_i = -J\\sum_i \\sigma_i \\sigma_{i+1} - \\frac{B}{2}\\sum_i (\\sigma_i+\\sigma_{i+1}).\n",
    "$$\n",
    "\n",
    "Partition function:\n",
    "$$\n",
    "  Z(T,B)\n",
    "  = \\sum_{\\sigma_i} e^{-\\beta H[{\\sigma_i}]} \n",
    "  = \\sum_{\\sigma_i} e^{\\beta J\\sum_i \\sigma_i \\sigma_{i+1} + \\beta \\frac{B}{2}\\sum_i (\\sigma_i+\\sigma_{i+1})}\n",
    "  = \\sum_{\\sigma_i} \n",
    "  \\left( e^{\\beta J \\sigma_1 \\sigma_2 + \\beta \\frac{B}{2}(\\sigma_1+\\sigma_2)} \\right)\n",
    "  \\left( e^{\\beta J \\sigma_2 \\sigma_3 + \\beta \\frac{B}{2}(\\sigma_2+\\sigma_3)} \\right) \\cdots\n",
    "  \\left( e^{\\beta J \\sigma_N \\sigma_1 + \\beta \\frac{B}{2}(\\sigma_N+\\sigma_1)} \\right)\n",
    "$$"
   ]
  },
  {
   "cell_type": "markdown",
   "metadata": {},
   "source": [
    "Define symmetric $2\\times 2$ transfer matrix $\\mathbf{T}$\n",
    "$$\n",
    "  T_{\\sigma_i,\\sigma_{i+1}} \\equiv e^{\\beta J \\sigma_i \\sigma_{i+1} + \\beta \\frac{B}{2}(\\sigma_i+\\sigma_{i+1})}\n",
    "$$\n",
    "\n",
    "so that\n",
    "\n",
    "$$\n",
    "  \\mathbf{T} = \n",
    "  \\left( \\begin{array}{cc}\n",
    "    T_{+1,+1} & T_{+1,-1} \\\\\n",
    "    T_{-1,+1} & T_{-1,-1}\n",
    "  \\end{array} \\right) =\n",
    "  \\left( \\begin{array}{cc}\n",
    "    e^{\\beta J+\\beta B} & e^{-\\beta J} \\\\\n",
    "    e^{-\\beta J} & e^{\\beta J-\\beta B}\n",
    "  \\end{array} \\right)    \n",
    "$$"
   ]
  },
  {
   "cell_type": "markdown",
   "metadata": {},
   "source": [
    "Partition function in terms of transfer matrix:\n",
    "$$\n",
    "  Z = \\sum_{\\sigma_1=\\pm1} \\sum_{\\sigma_2=\\pm1} \\cdots \\sum_{\\sigma_N=\\pm1} T_{\\sigma_1,\\sigma_2} T_{\\sigma_2,\\sigma_3} \\cdots T_{\\sigma_N,\\sigma_1}\n",
    "  = \\sum_{\\sigma_1} \\mathbf{T}^N_{\\sigma_1,\\sigma_1} = \\text{Tr}(\\mathbf{T}^N).\n",
    "$$"
   ]
  },
  {
   "cell_type": "markdown",
   "metadata": {},
   "source": [
    "Diagonalize a real, symmetric matrix $\\mathbf{T}$ by a $2\\times 2$ unitary matrix $\\mathbf{T}$:\n",
    "$$\n",
    "  \\mathbf{U}^{-1}\\mathbf{T}\\mathbf{U}=\n",
    "  \\left( \\begin{array}{cc}\n",
    "  \\lambda_+ & 0 \\\\\n",
    "  0 & \\lambda_-\n",
    "  \\end{array} \\right),\n",
    "$$\n",
    "where $\\lambda_+ > \\lambda_-$. So that\n",
    "$$\n",
    "  Z = \\text{Tr}(\\mathbf{T}^N) = \\text{Tr}(\\mathbf{U}^N) = \\lambda^N_+ + \\lambda^N_-.\n",
    "$$\n",
    "\n",
    "In the thermodynamic limit\n",
    "$$\n",
    "  \\lim_{N\\rightarrow \\infty} Z = \n",
    "  \\lambda_+^N \\left( 1 +  \\left( \\frac{\\lambda_-}{\\lambda_+}\\right)^N \\right) = \\lambda_+^N.  \n",
    "$$"
   ]
  },
  {
   "cell_type": "markdown",
   "metadata": {},
   "source": [
    "$$\n",
    "\\lambda_\\pm \n",
    "= e^{\\beta J} \\cosh(\\beta B) \\pm \\sqrt{e^{-2\\beta J}+e^{2\\beta J}\\sinh^2(\\beta B)}\n",
    "= e^{\\beta J} \\left[\n",
    "\\cosh(\\beta B) \\pm \\sqrt{\\sinh^2(\\beta B) + e^{-4\\beta J}}\n",
    "\\right]\n",
    "$$"
   ]
  },
  {
   "cell_type": "code",
   "execution_count": null,
   "metadata": {},
   "outputs": [],
   "source": []
  }
 ],
 "metadata": {
  "kernelspec": {
   "display_name": "Python 3",
   "language": "python",
   "name": "python3"
  },
  "language_info": {
   "codemirror_mode": {
    "name": "ipython",
    "version": 3
   },
   "file_extension": ".py",
   "mimetype": "text/x-python",
   "name": "python",
   "nbconvert_exporter": "python",
   "pygments_lexer": "ipython3",
   "version": "3.7.3"
  }
 },
 "nbformat": 4,
 "nbformat_minor": 4
}
